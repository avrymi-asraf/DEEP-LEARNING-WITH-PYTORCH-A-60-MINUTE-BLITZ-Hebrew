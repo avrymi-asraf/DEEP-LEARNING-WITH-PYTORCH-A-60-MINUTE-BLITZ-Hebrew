{
 "cells": [
  {
   "cell_type": "code",
   "execution_count": 4,
   "metadata": {},
   "outputs": [],
   "source": [
    "%matplotlib inline"
   ]
  },
  {
   "attachments": {},
   "cell_type": "markdown",
   "metadata": {},
   "source": [
    "<div dir=\"rtl\" lang=\"he\" xml:lang=\"he\">\n",
    "\n",
    "\n",
    "#  טנזור - _tensor_ 🔢\n",
    "\n",
    "\n",
    "טנזור (או טנסור) הוא מערך מידע הדומה מאוד לרשימות או טבלאות-_matrix_. טנזור מכיל רק מספרים והוא מיועד בעיקר לחישובים של _data sinece_. בPyTorch טנזורים משמשים גם כדאטה - הקלט והפלט של הפונקציות, וגם כפרמטרים (משקולות) לרשתות נויירונים.\\\n",
    "טנזורים מאוד דומים לספרייה _numpy_ . כך שמי שיודע לעבוד עם _numpy_ יתסדר בקלות עם טנזורים. ההבדל העיקרי הוא שטנזורים מיועדים לרוץ על הGPU של המחשב (שבבים גרפים), כך ניתן להריץ חישובים גדולים במהירות יחסית.  \n",
    "\n"
   ]
  },
  {
   "cell_type": "code",
   "execution_count": 3,
   "metadata": {},
   "outputs": [],
   "source": [
    "import torch\n",
    "import numpy as np"
   ]
  },
  {
   "attachments": {},
   "cell_type": "markdown",
   "metadata": {},
   "source": [
    "<div dir=\"rtl\" lang=\"he\" xml:lang=\"he\">\n",
    "\n",
    "## יצירת טנזורים ✏️ \n",
    "ניתן ליצור טנזורים בדרכים שונות, כמו שנראה בדוגמאות הבאות:\n",
    "\n",
    "#### מדאטה 💾\n",
    "ניתן להכניס את המידע לתוך הטנזור בצורה ידנית, דרך רשימה המכילה מספרים, או דרך מערך _numpy_\n",
    "\n"
   ]
  },
  {
   "cell_type": "code",
   "execution_count": 5,
   "metadata": {},
   "outputs": [],
   "source": [
    "# from data\n",
    "data = [[1, 2], [3, 4]]\n",
    "x_data = torch.tensor(data)\n",
    "# from numpy array\n",
    "np_array = np.array(data)\n",
    "x_np = torch.from_numpy(np_array)\n",
    "# from another tensor\n"
   ]
  },
  {
   "attachments": {},
   "cell_type": "markdown",
   "metadata": {},
   "source": [
    "<div dir=\"rtl\" lang=\"he\" xml:lang=\"he\">\n",
    "\n",
    "#### מטנזור אחר 👨🏾‍❤️‍💋‍👨🏿\n",
    "\n",
    "ניתן לשכפל טנזור מטנזור אחר עם הפונקציה `clone(tensor)`  \n",
    " "
   ]
  },
  {
   "cell_type": "code",
   "execution_count": 10,
   "metadata": {},
   "outputs": [
    {
     "name": "stdout",
     "output_type": "stream",
     "text": [
      "tensor([[1, 2],\n",
      "        [3, 4]])\n"
     ]
    }
   ],
   "source": [
    "y_data = torch.clone(x_data)\n",
    "print(y_data)"
   ]
  },
  {
   "attachments": {},
   "cell_type": "markdown",
   "metadata": {},
   "source": [
    "<div dir=\"rtl\" lang=\"he\" xml:lang=\"he\">\n",
    "\n",
    "#### טנזורים גנרים ⏹️\n",
    "ניתן ליצור טנזורים ע\"י פונקציות יעודייות כמו למשל - יצירת טנזור רנדומלי, טנזור אפסים או טנזור אחדות. \\\n",
    "צריך להעביר כפרמטר לטנזורים את המימדים  של הטנזור שרוצים ליצור "
   ]
  },
  {
   "cell_type": "code",
   "execution_count": 11,
   "metadata": {},
   "outputs": [
    {
     "name": "stdout",
     "output_type": "stream",
     "text": [
      "Random Tensor: \n",
      " tensor([[[0.9910, 0.4670],\n",
      "         [0.9540, 0.4880]],\n",
      "\n",
      "        [[0.3257, 0.2431],\n",
      "         [0.1457, 0.3355]]]) \n",
      "\n",
      "Ones Tensor: \n",
      " tensor([[[1., 1.],\n",
      "         [1., 1.]],\n",
      "\n",
      "        [[1., 1.],\n",
      "         [1., 1.]]]) \n",
      "\n",
      "Zeros Tensor: \n",
      " tensor([[[0., 0.],\n",
      "         [0., 0.]],\n",
      "\n",
      "        [[0., 0.],\n",
      "         [0., 0.]]])\n"
     ]
    }
   ],
   "source": [
    "shape = (2,2,2) #shape of tensor\n",
    "rand_tensor = torch.rand(shape)\n",
    "ones_tensor = torch.ones(shape)\n",
    "zeros_tensor = torch.zeros(shape)\n",
    "\n",
    "print(f\"Random Tensor: \\n {rand_tensor} \\n\")\n",
    "print(f\"Ones Tensor: \\n {ones_tensor} \\n\")\n",
    "print(f\"Zeros Tensor: \\n {zeros_tensor}\")"
   ]
  },
  {
   "cell_type": "markdown",
   "metadata": {},
   "source": [
    "הפונקציה `()ones_like` או `()rand_like` מאפשרת ליצור טנזור של אחדות, או רנדומלי במימדים של הטנזור שעובר כפרמטר"
   ]
  },
  {
   "cell_type": "code",
   "execution_count": 12,
   "metadata": {},
   "outputs": [
    {
     "name": "stdout",
     "output_type": "stream",
     "text": [
      "Ones Tensor: \n",
      " tensor([[1, 1],\n",
      "        [1, 1]]) \n",
      "\n",
      "Random Tensor: \n",
      " tensor([[0.8822, 0.6834],\n",
      "        [0.6176, 0.0503]]) \n",
      "\n"
     ]
    }
   ],
   "source": [
    "x_ones = torch.ones_like(x_data) # retains the properties of x_data\n",
    "print(f\"Ones Tensor: \\n {x_ones} \\n\")\n",
    "\n",
    "x_rand = torch.rand_like(x_data, dtype=torch.float) # overrides the datatype of x_data\n",
    "print(f\"Random Tensor: \\n {x_rand} \\n\")"
   ]
  },
  {
   "attachments": {},
   "cell_type": "markdown",
   "metadata": {},
   "source": [
    "<div dir=\"rtl\" lang=\"he\" xml:lang=\"he\">\n",
    "\n",
    "## מאפייני הטנזור  - _Tensor attributes_ 📄\n",
    "\n",
    "מאפייני הטנזור קובעים את הגודל שלו, את סוג המספרים שהוא מכיל - _data type_ , ואת הדרך בה יעבדו אותו (CPU או GPU)  "
   ]
  },
  {
   "cell_type": "code",
   "execution_count": 12,
   "metadata": {},
   "outputs": [
    {
     "name": "stdout",
     "output_type": "stream",
     "text": [
      "Shape of tensor: torch.Size([3, 4])\n",
      "Datatype of tensor: torch.float32\n",
      "Device tensor is stored on: cpu\n"
     ]
    }
   ],
   "source": [
    "tensor = torch.rand(3, 4)\n",
    "\n",
    "print(f\"Shape of tensor: {tensor.shape}\")\n",
    "print(f\"Datatype of tensor: {tensor.dtype}\")\n",
    "print(f\"Device tensor is stored on: {tensor.device}\")"
   ]
  },
  {
   "cell_type": "code",
   "execution_count": 13,
   "metadata": {},
   "outputs": [],
   "source": [
    "# We move our tensor to the GPU if available\n",
    "if torch.cuda.is_available():\n",
    "  tensor = tensor.to('cuda')\n",
    "  print(f\"Device tensor is stored on: {tensor.device}\")"
   ]
  },
  {
   "attachments": {},
   "cell_type": "markdown",
   "metadata": {},
   "source": [
    "<div dir=\"rtl\" lang=\"he\" xml:lang=\"he\">\n",
    "\n",
    "## אופרטורים על טנזורים - _Tensor Operations_ ➗\n",
    "\n",
    "ישנם כ100 אופרטורים על טנזורים, הכוללים: סלייסינג, מציאת אינדקס, שיחלוף ופעולות רבות מאלגברה ליניארית. ניתן לראות את כל האופרטורים בלינק \n",
    "[כאן](https://pytorch.org/docs/stable/torch.html) \n",
    " \n",
    "\n",
    "כל חישובי האופרטורים יכולים להתבצע על הGPU ביעילות גבוהה יותר מחישובם על הCPU "
   ]
  },
  {
   "attachments": {},
   "cell_type": "markdown",
   "metadata": {},
   "source": [
    "<div dir=\"rtl\" lang=\"he\" xml:lang=\"he\">\n",
    "\n",
    "#### גישה לאינדקס וחיתוך -  _indexing and slicing_ "
   ]
  },
  {
   "cell_type": "code",
   "execution_count": 19,
   "metadata": {},
   "outputs": [
    {
     "name": "stdout",
     "output_type": "stream",
     "text": [
      "tensor([[0., 1., 2., 3.],\n",
      "        [0., 1., 2., 3.],\n",
      "        [0., 1., 2., 3.],\n",
      "        [0., 1., 2., 3.]])\n"
     ]
    }
   ],
   "source": [
    "tensor = torch.ones(4, 4)\n",
    "tensor[:,0] = 0\n",
    "tensor[:,1] = 1\n",
    "tensor[:,2] = 2\n",
    "tensor[:,3] = 3\n",
    "print(tensor)"
   ]
  },
  {
   "attachments": {},
   "cell_type": "markdown",
   "metadata": {},
   "source": [
    "<div dir=\"rtl\" lang=\"he\" xml:lang=\"he\">\n",
    "\n",
    "#### איחוד טנזורים - _Joining tensors_\n",
    "הפונקציה `cat` מאפשרת לנו לאחד כמה טנזורים לטנזור אחד, לפי המימד בו נבחר לאחד את הרשימות."
   ]
  },
  {
   "cell_type": "code",
   "execution_count": 20,
   "metadata": {},
   "outputs": [
    {
     "name": "stdout",
     "output_type": "stream",
     "text": [
      "tensor([[0., 1., 2., 3., 0., 1., 2., 3., 0., 1., 2., 3.],\n",
      "        [0., 1., 2., 3., 0., 1., 2., 3., 0., 1., 2., 3.],\n",
      "        [0., 1., 2., 3., 0., 1., 2., 3., 0., 1., 2., 3.],\n",
      "        [0., 1., 2., 3., 0., 1., 2., 3., 0., 1., 2., 3.]])\n"
     ]
    }
   ],
   "source": [
    "t1 = torch.cat([tensor, tensor, tensor], dim=1)\n",
    "print(t1)"
   ]
  },
  {
   "attachments": {},
   "cell_type": "markdown",
   "metadata": {},
   "source": [
    "<div dir=\"rtl\" lang=\"he\" xml:lang=\"he\">\n",
    "\n",
    "\n",
    "#### כפל טנזורים _Multiplying tensors_\n",
    "ניתן לכפול מטריצות איבר באיבר בשתי דרכים: קריאה מפורשת לפונקציה `tensor.mul`, או דרך האופרטור `*` "
   ]
  },
  {
   "cell_type": "code",
   "execution_count": 21,
   "metadata": {},
   "outputs": [
    {
     "name": "stdout",
     "output_type": "stream",
     "text": [
      "tensor.mul(tensor) \n",
      " tensor([[0., 1., 4., 9.],\n",
      "        [0., 1., 4., 9.],\n",
      "        [0., 1., 4., 9.],\n",
      "        [0., 1., 4., 9.]]) \n",
      "\n",
      "tensor * tensor \n",
      " tensor([[0., 1., 4., 9.],\n",
      "        [0., 1., 4., 9.],\n",
      "        [0., 1., 4., 9.],\n",
      "        [0., 1., 4., 9.]])\n"
     ]
    }
   ],
   "source": [
    "# This computes the element-wise product\n",
    "print(f\"tensor.mul(tensor) \\n {tensor.mul(tensor)} \\n\")\n",
    "# Alternative syntax:\n",
    "print(f\"tensor * tensor \\n {tensor * tensor}\")"
   ]
  },
  {
   "cell_type": "markdown",
   "metadata": {},
   "source": [
    "כפל מטריצות בצורה הרגילה "
   ]
  },
  {
   "cell_type": "code",
   "execution_count": 23,
   "metadata": {},
   "outputs": [
    {
     "name": "stdout",
     "output_type": "stream",
     "text": [
      "tensor.matmul(tensor.T) \n",
      " tensor([[14., 14., 14., 14.],\n",
      "        [14., 14., 14., 14.],\n",
      "        [14., 14., 14., 14.],\n",
      "        [14., 14., 14., 14.]]) \n",
      "\n",
      "tensor @ tensor.T \n",
      " tensor([[14., 14., 14., 14.],\n",
      "        [14., 14., 14., 14.],\n",
      "        [14., 14., 14., 14.],\n",
      "        [14., 14., 14., 14.]])\n"
     ]
    }
   ],
   "source": [
    "print(f\"tensor.matmul(tensor.T) \\n {tensor.matmul(tensor.T)} \\n\")\n",
    "# Alternative syntax:\n",
    "print(f\"tensor @ tensor.T \\n {tensor @ tensor.T}\")"
   ]
  },
  {
   "attachments": {},
   "cell_type": "markdown",
   "metadata": {},
   "source": [
    "<div dir=\"rtl\" lang=\"he\" xml:lang=\"he\">\n",
    "\n",
    "#### אופרטורים הפועלים על הטנזור עצמו _In-place operations_\n",
    "אופרטורים שיש להם `_` לפני שם האופרטור משנים את הטנזור עליו עושים את האופרטור _In place_ \n",
    "כך ניתן לחסוך מקום בזיכרון"
   ]
  },
  {
   "cell_type": "code",
   "execution_count": 23,
   "metadata": {},
   "outputs": [
    {
     "name": "stdout",
     "output_type": "stream",
     "text": [
      "tensor([[1., 0., 1., 1.],\n",
      "        [1., 0., 1., 1.],\n",
      "        [1., 0., 1., 1.],\n",
      "        [1., 0., 1., 1.]]) \n",
      "\n",
      "tensor([[6., 5., 6., 6.],\n",
      "        [6., 5., 6., 6.],\n",
      "        [6., 5., 6., 6.],\n",
      "        [6., 5., 6., 6.]])\n"
     ]
    }
   ],
   "source": [
    "print(tensor, \"\\n\")\n",
    "tensor.add_(5)\n",
    "print(tensor)"
   ]
  },
  {
   "attachments": {},
   "cell_type": "markdown",
   "metadata": {},
   "source": [
    "<div dir=\"rtl\" lang=\"he\" xml:lang=\"he\">\n",
    "\n",
    "### _הערה_\n",
    "למרות ששימוש באופרטורים _In place_ חוסך מקום, השימוש בהם בעייתי בעת חישוב ניגזרות בגלל אובדן ההיסטוריה. (שחשוב כשעושים את הפעולות ברשת נויירונים) לכן באופן כללי מומלץ להמעיט בשימוש בהם. "
   ]
  },
  {
   "attachments": {},
   "cell_type": "markdown",
   "metadata": {},
   "source": [
    "<div dir=\"rtl\" lang=\"he\" xml:lang=\"he\">\n",
    "\n",
    "\n",
    "### שיתוף זיכרון\n",
    "טנזורים שמועובדים על הCPU וכן רכיבי `numpy` יכולים לשתף את אותו מקום בזיכרון, שינוי של המידע באחד מהם ישנה את המידע בכולם. \n",
    "\n"
   ]
  },
  {
   "cell_type": "code",
   "execution_count": 24,
   "metadata": {},
   "outputs": [
    {
     "name": "stdout",
     "output_type": "stream",
     "text": [
      "t: tensor([1., 1., 1., 1., 1.])\n",
      "n: [1. 1. 1. 1. 1.]\n"
     ]
    }
   ],
   "source": [
    "t = torch.ones(5)\n",
    "print(f\"t: {t}\")\n",
    "n = t.numpy()\n",
    "print(f\"n: {n}\")"
   ]
  },
  {
   "cell_type": "markdown",
   "metadata": {},
   "source": [
    "שינוי של המידע בטנזור ישנה את המידע גם ב`numpy` "
   ]
  },
  {
   "cell_type": "code",
   "execution_count": 25,
   "metadata": {},
   "outputs": [
    {
     "name": "stdout",
     "output_type": "stream",
     "text": [
      "t: tensor([2., 2., 2., 2., 2.])\n",
      "n: [2. 2. 2. 2. 2.]\n"
     ]
    }
   ],
   "source": [
    "t.add_(1)\n",
    "print(f\"t: {t}\")\n",
    "print(f\"n: {n}\")"
   ]
  },
  {
   "cell_type": "markdown",
   "metadata": {
    "direction": "rtl"
   },
   "source": [
    "הצגת מערך `numpy`  כטנזור"
   ]
  },
  {
   "cell_type": "code",
   "execution_count": 26,
   "metadata": {},
   "outputs": [],
   "source": [
    "n = np.ones(5)\n",
    "t = torch.from_numpy(n)"
   ]
  },
  {
   "cell_type": "markdown",
   "metadata": {},
   "source": [
    "שינוי של המידע במערך ה`numpy` משנה גם הטנזור"
   ]
  },
  {
   "cell_type": "code",
   "execution_count": 27,
   "metadata": {},
   "outputs": [
    {
     "name": "stdout",
     "output_type": "stream",
     "text": [
      "t: tensor([2., 2., 2., 2., 2.], dtype=torch.float64)\n",
      "n: [2. 2. 2. 2. 2.]\n"
     ]
    }
   ],
   "source": [
    "np.add(n, 1, out=n)\n",
    "print(f\"t: {t}\")\n",
    "print(f\"n: {n}\")"
   ]
  },
  {
   "attachments": {},
   "cell_type": "markdown",
   "metadata": {},
   "source": [
    "<div dir=\"rtl\" lang=\"he\" xml:lang=\"he\">\n",
    "\n",
    "### צורת הטנזור\n",
    "כל טנזור הוא מערך מידע ב$n$ מ\n",
    "מימדים. \n",
    "על בסיס טנזור קיים ניתן בקלות לבנות טנזור שיכיל את את אותו מידע במבנה מימדים שונה. \n",
    "תצוגת הטנזור במבנה מימדים שונה נקראת `view`"
   ]
  },
  {
   "attachments": {},
   "cell_type": "markdown",
   "metadata": {},
   "source": [
    "t = torch.rand(5,5,5)\n",
    "v = t.view(5,-1)\n",
    "print(f\"\"\" \n",
    "{t.size()=},\n",
    "{v.size()=},\n",
    "{t[0,0,0]=},\n",
    "{v[0,0]=},\n",
    "{len(v)=},\n",
    "{len(t)=},\n",
    " \"\"\")"
   ]
  }
 ],
 "metadata": {
  "direction": "rtl",
  "kernelspec": {
   "display_name": "Python 3 (ipykernel)",
   "language": "python",
   "name": "python3"
  },
  "language_info": {
   "codemirror_mode": {
    "name": "ipython",
    "version": 3
   },
   "file_extension": ".py",
   "mimetype": "text/x-python",
   "name": "python",
   "nbconvert_exporter": "python",
   "pygments_lexer": "ipython3",
   "version": "3.8.13"
  },
  "latex_envs": {
   "LaTeX_envs_menu_present": true,
   "autoclose": false,
   "autocomplete": true,
   "bibliofile": "biblio.bib",
   "cite_by": "apalike",
   "current_citInitial": 1,
   "eqLabelWithNumbers": true,
   "eqNumInitial": 1,
   "hotkeys": {
    "equation": "Ctrl-E",
    "itemize": "Ctrl-I"
   },
   "labels_anchors": false,
   "latex_user_defs": false,
   "report_style_numbering": false,
   "user_envs_cfg": false
  }
 },
 "nbformat": 4,
 "nbformat_minor": 4
}
